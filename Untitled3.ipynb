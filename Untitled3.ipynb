{
  "nbformat": 4,
  "nbformat_minor": 0,
  "metadata": {
    "colab": {
      "name": "Untitled3.ipynb",
      "provenance": [],
      "authorship_tag": "ABX9TyN3/Mj1TenoAtHtxBJF57dF",
      "include_colab_link": true
    },
    "kernelspec": {
      "name": "python3",
      "display_name": "Python 3"
    },
    "language_info": {
      "name": "python"
    }
  },
  "cells": [
    {
      "cell_type": "markdown",
      "metadata": {
        "id": "view-in-github",
        "colab_type": "text"
      },
      "source": [
        "<a href=\"https://colab.research.google.com/github/USIS002320/Programacion-III/blob/Fundamento_Python/Untitled3.ipynb\" target=\"_parent\"><img src=\"https://colab.research.google.com/assets/colab-badge.svg\" alt=\"Open In Colab\"/></a>"
      ]
    },
    {
      "cell_type": "code",
      "metadata": {
        "colab": {
          "base_uri": "https://localhost:8080/"
        },
        "id": "6VXqDSYFnmoI",
        "outputId": "77c5802c-68a4-42bb-fc1e-b6e4a4e8a255"
      },
      "source": [
        "print(\"Hola Mundo\", \"Bienvenidos a Progra III con Python\", \"Hola Chicos, que tal...\")"
      ],
      "execution_count": 1,
      "outputs": [
        {
          "output_type": "stream",
          "name": "stdout",
          "text": [
            "Hola Mundo Bienvenidos a Progra III con Python Hola Chicos, que tal...\n"
          ]
        }
      ]
    },
    {
      "cell_type": "code",
      "metadata": {
        "colab": {
          "base_uri": "https://localhost:8080/"
        },
        "id": "6u0gFnkXnrfS",
        "outputId": "87ae7a36-4c18-47b4-f1fd-20e31b01d684"
      },
      "source": [
        "saludo =\"hola\"\n",
        "print(saludo + \"Mundo\")\n",
        "print(saludo[1])"
      ],
      "execution_count": 2,
      "outputs": [
        {
          "output_type": "stream",
          "name": "stdout",
          "text": [
            "holaMundo\n",
            "o\n"
          ]
        }
      ]
    },
    {
      "cell_type": "code",
      "metadata": {
        "colab": {
          "base_uri": "https://localhost:8080/"
        },
        "id": "3e47zgj-nz3u",
        "outputId": "6230e447-17d2-439a-cdc7-af349a7cc611"
      },
      "source": [
        "nombre = input(\"Como te llamas: \")\n",
        "print (\"Hola\"+nombre, \"Tu letra inicial es:\", nombre[0], \"Tu nombre tiene: \", nombre.__len__(), \" caracteres\")"
      ],
      "execution_count": 3,
      "outputs": [
        {
          "output_type": "stream",
          "name": "stdout",
          "text": [
            "Como te llamas: Billy\n",
            "HolaBilly Tu letra inicial es: B Tu nombre tiene:  5  caracteres\n"
          ]
        }
      ]
    },
    {
      "cell_type": "code",
      "metadata": {
        "colab": {
          "base_uri": "https://localhost:8080/"
        },
        "id": "8FQS10GOn9Ng",
        "outputId": "83f8f5cd-52a3-42bd-8d9f-a6228a07aefe"
      },
      "source": [
        "num1 = 11\n",
        "num2 = 2.2\n",
        "resp = num1 + num2\n",
        "print(\"La suma es: \", resp)"
      ],
      "execution_count": 5,
      "outputs": [
        {
          "output_type": "stream",
          "name": "stdout",
          "text": [
            "La suma es:  13.2\n"
          ]
        }
      ]
    },
    {
      "cell_type": "code",
      "metadata": {
        "colab": {
          "base_uri": "https://localhost:8080/"
        },
        "id": "73pCVRtaoG33",
        "outputId": "76ee4104-721f-432c-e345-01902355d2ea"
      },
      "source": [
        "num1 = input(\"Num1: \")\n",
        "num2 = input(\"Num2: \")\n",
        "resp = float(num2) #\"5.5\"-> 5.5\n",
        "print(\"La suma es: \", resp)"
      ],
      "execution_count": 6,
      "outputs": [
        {
          "output_type": "stream",
          "name": "stdout",
          "text": [
            "Num1: 11\n",
            "Num2: 2.2\n",
            "La suma es:  2.2\n"
          ]
        }
      ]
    },
    {
      "cell_type": "code",
      "metadata": {
        "colab": {
          "base_uri": "https://localhost:8080/"
        },
        "id": "7qb0gkRToXRU",
        "outputId": "72f94811-de5d-4368-fbfe-7ea5c3521739"
      },
      "source": [
        "print(nombre)"
      ],
      "execution_count": 7,
      "outputs": [
        {
          "output_type": "stream",
          "name": "stdout",
          "text": [
            "Billy\n"
          ]
        }
      ]
    },
    {
      "cell_type": "code",
      "metadata": {
        "colab": {
          "base_uri": "https://localhost:8080/"
        },
        "id": "6D9GKZu0ohEt",
        "outputId": "9511788a-0132-4c82-9bc2-e9aa9e7d940b"
      },
      "source": [
        "gustapython = True\n",
        "print(\"hola\", nombre, \"te gusta python\", gustapython)"
      ],
      "execution_count": 8,
      "outputs": [
        {
          "output_type": "stream",
          "name": "stdout",
          "text": [
            "hola Billy te gusta python True\n"
          ]
        }
      ]
    },
    {
      "cell_type": "code",
      "metadata": {
        "colab": {
          "base_uri": "https://localhost:8080/"
        },
        "id": "NK1mW47qot8f",
        "outputId": "7156a276-09b1-44eb-f779-fa3cf91be6ea"
      },
      "source": [
        "def suma(num1, num2):\n",
        " resp = num1 + num2\n",
        " return resp\n",
        "num1 = float(input(\"num1: \"))\n",
        "num2 = float(input(\"num2: \"))\n",
        "resp = suma(7,5)\n",
        "print(resp)"
      ],
      "execution_count": 11,
      "outputs": [
        {
          "output_type": "stream",
          "name": "stdout",
          "text": [
            "num1: 7\n",
            "num2: 5\n",
            "12\n"
          ]
        }
      ]
    },
    {
      "cell_type": "code",
      "metadata": {
        "colab": {
          "base_uri": "https://localhost:8080/"
        },
        "id": "xtPYIEtspNRA",
        "outputId": "f119a0fe-a6e4-44e3-cf9c-1eea5b0da311"
      },
      "source": [
        "num1 = int(input(\"Num1: \"))\n",
        "num2 = int(input(\"Num2: \"))\n",
        "print(\"Los numeros\", str(num1), \",\", str(num2), \"son iguales: \", str(num1==num2))"
      ],
      "execution_count": 14,
      "outputs": [
        {
          "output_type": "stream",
          "name": "stdout",
          "text": [
            "Num1: 8\n",
            "Num2: 8\n",
            "Los numeros 8 , 8 son iguales:  True\n"
          ]
        }
      ]
    },
    {
      "cell_type": "code",
      "metadata": {
        "colab": {
          "base_uri": "https://localhost:8080/"
        },
        "id": "WxfwFE19pfQO",
        "outputId": "82916fa9-8485-4017-a73a-0f21ebcb8cf8"
      },
      "source": [
        "def convertirFC(f):\n",
        "   c = (f-32)*5/9\n",
        "   return c \n",
        "\n",
        "f = int(input(\"F: \"))\n",
        "print(\"F: \", str(f), \" a celsius: \", str( convertirFC(f) ))"
      ],
      "execution_count": 16,
      "outputs": [
        {
          "output_type": "stream",
          "name": "stdout",
          "text": [
            "F: 3\n",
            "F:  3  a celsius:  -16.11111111111111\n"
          ]
        }
      ]
    },
    {
      "cell_type": "code",
      "metadata": {
        "colab": {
          "base_uri": "https://localhost:8080/"
        },
        "id": "LCA4lir-qNL5",
        "outputId": "c2808a48-92a5-4e44-b179-a82464bd39f6"
      },
      "source": [
        "numHrs = int(input(\"Num. de Hrs trabajadas: \"))\n",
        "valorHr = float(input(\"Valor por hr: \"))\n",
        "\n",
        "sueldo = numHrs*valorHr*30\n",
        "print(\"Sueldo: \", sueldo)"
      ],
      "execution_count": 17,
      "outputs": [
        {
          "output_type": "stream",
          "name": "stdout",
          "text": [
            "Num. de Hrs trabajadas: 8\n",
            "Valor por hr: 5.4\n",
            "Sueldo:  1296.0\n"
          ]
        }
      ]
    },
    {
      "cell_type": "code",
      "metadata": {
        "colab": {
          "base_uri": "https://localhost:8080/"
        },
        "id": "b6pzKUjQqguj",
        "outputId": "1e694ef0-be1b-43c3-d5bd-f61bca0dd2d4"
      },
      "source": [
        "def calcularSueldo(numHrs, valorHr):\n",
        "   hrsExtras = 0\n",
        "   if( numHrs>8 ):\n",
        "     hrsExtras = numHrs-8\n",
        "   sueldo = (8*valorHr + hrsExtras*valorHr*2)*30\n",
        "   return sueldo\n",
        "\n",
        "numHrs = int(input(\"Num. hrs trabajadas: \"))\n",
        "valorHr = float(input(\"Valor x hr: \"))\n",
        "print(\"Sueldo: \", str(calcularSueldo(numHrs, valorHr)))"
      ],
      "execution_count": 18,
      "outputs": [
        {
          "output_type": "stream",
          "name": "stdout",
          "text": [
            "Num. hrs trabajadas: 8\n",
            "Valor x hr: 5.4\n",
            "Sueldo:  1296.0\n"
          ]
        }
      ]
    },
    {
      "cell_type": "code",
      "metadata": {
        "colab": {
          "base_uri": "https://localhost:8080/"
        },
        "id": "Mad3cJs8qohC",
        "outputId": "7a62624e-4024-4ac0-eea4-c35551cbfb87"
      },
      "source": [
        "prioridad = 7 - 5*2 - 4/4*2 # 5*2= 10  4/4=1   1*2=2  7-10-2= -5\n",
        "print(str(prioridad))"
      ],
      "execution_count": 19,
      "outputs": [
        {
          "output_type": "stream",
          "name": "stdout",
          "text": [
            "-5.0\n"
          ]
        }
      ]
    },
    {
      "cell_type": "code",
      "metadata": {
        "colab": {
          "base_uri": "https://localhost:8080/"
        },
        "id": "QOiO_6Mvqy05",
        "outputId": "f2e1eaba-0d84-45b1-af50-7d39e9c02dea"
      },
      "source": [
        "saludo = \"hola\"\n",
        "print(saludo + \" Mundo\")\n",
        "print( saludo[1] )"
      ],
      "execution_count": 20,
      "outputs": [
        {
          "output_type": "stream",
          "name": "stdout",
          "text": [
            "hola Mundo\n",
            "o\n"
          ]
        }
      ]
    },
    {
      "cell_type": "code",
      "metadata": {
        "colab": {
          "base_uri": "https://localhost:8080/"
        },
        "id": "MT_uWg13rAm8",
        "outputId": "3cf9dab9-0fa7-4f4d-9d90-23811095bfa9"
      },
      "source": [
        "suma = lambda num1,num2: num1+num2\n",
        "num1 = float(input(\"Num1: \"))\n",
        "num2 = float(input(\"Num2: \"))\n",
        "print(\"La suma es: \", suma(num1,num2))"
      ],
      "execution_count": 21,
      "outputs": [
        {
          "output_type": "stream",
          "name": "stdout",
          "text": [
            "Num1: 8\n",
            "Num2: 2\n",
            "La suma es:  10.0\n"
          ]
        }
      ]
    },
    {
      "cell_type": "code",
      "metadata": {
        "colab": {
          "base_uri": "https://localhost:8080/"
        },
        "id": "IllQNR2RrHX5",
        "outputId": "d8827809-1b3d-498e-f39f-85b362f637cb"
      },
      "source": [
        "conversion = lambda f:(f-32)*5/9\n",
        "f = float(input(\"Fahrenheit: \"))\n",
        "print(\"Grados F: \", f, \" a C: \", conversion(f))"
      ],
      "execution_count": 22,
      "outputs": [
        {
          "output_type": "stream",
          "name": "stdout",
          "text": [
            "Fahrenheit: 111.5\n",
            "Grados F:  111.5  a C:  44.166666666666664\n"
          ]
        }
      ]
    },
    {
      "cell_type": "code",
      "metadata": {
        "colab": {
          "base_uri": "https://localhost:8080/"
        },
        "id": "4S6CnWERrPqW",
        "outputId": "8b2f82d6-0cee-4264-9639-8a1c5745abed"
      },
      "source": [
        "cuadrado = lambda n:n**2\n",
        "n = int(input(\"N: \"))\n",
        "print(\"N: \", n, \"al cuadrado es: \",cuadrado(n))"
      ],
      "execution_count": 24,
      "outputs": [
        {
          "output_type": "stream",
          "name": "stdout",
          "text": [
            "N: 5\n",
            "N:  5 al cuadrado es:  25\n"
          ]
        }
      ]
    },
    {
      "cell_type": "code",
      "metadata": {
        "colab": {
          "base_uri": "https://localhost:8080/"
        },
        "id": "sZ2YdSx_ryqp",
        "outputId": "ce01e41f-b980-40bc-d66d-6b64ebc04169"
      },
      "source": [
        "cubo = lambda n:n**3\n",
        "n = int(input(\"n: \"))\n",
        "print(\"N: \", n, \" al cubo es: \", cubo(n))"
      ],
      "execution_count": 26,
      "outputs": [
        {
          "output_type": "stream",
          "name": "stdout",
          "text": [
            "n: 5\n",
            "N:  5  al cubo es:  125\n"
          ]
        }
      ]
    },
    {
      "cell_type": "code",
      "metadata": {
        "colab": {
          "base_uri": "https://localhost:8080/"
        },
        "id": "h3e7k8bjsAQG",
        "outputId": "5964e784-e432-4aa6-9be0-e6a4d75a4630"
      },
      "source": [
        "exp = lambda n,e:n**e\n",
        "n = int(input(\"N: \"))\n",
        "e = int(input(\"Exponente: \"))\n",
        "print(n, \" elevado al exp: \", e, \"es\", exp(n,e))"
      ],
      "execution_count": 27,
      "outputs": [
        {
          "output_type": "stream",
          "name": "stdout",
          "text": [
            "N: 4\n",
            "Exponente: 4\n",
            "4  elevado al exp:  4 es 256\n"
          ]
        }
      ]
    },
    {
      "cell_type": "code",
      "metadata": {
        "colab": {
          "base_uri": "https://localhost:8080/"
        },
        "id": "pTptNnswsMft",
        "outputId": "8ca667a1-88ea-4da6-9804-7ab180365a73"
      },
      "source": [
        "lista =[1,2,3,4]\n",
        "resp = list(map(lambda n:n*2, lista))\n",
        "print(resp)"
      ],
      "execution_count": 29,
      "outputs": [
        {
          "output_type": "stream",
          "name": "stdout",
          "text": [
            "[2, 4, 6, 8]\n"
          ]
        }
      ]
    },
    {
      "cell_type": "code",
      "metadata": {
        "colab": {
          "base_uri": "https://localhost:8080/"
        },
        "id": "yyGv7E5ksdKh",
        "outputId": "9cb699f3-c3b5-4e7b-9d56-db1ccb19e0a5"
      },
      "source": [
        "gf_dep = [85,58,105,40]\n",
        "c_dep = list(map(conversion, gf_dep))\n",
        "print(\"los grados F: \", gf_dep, \" en celsius es: \", c_dep)"
      ],
      "execution_count": 31,
      "outputs": [
        {
          "output_type": "stream",
          "name": "stdout",
          "text": [
            "los grados F:  [85, 58, 105, 40]  en celsius es:  [29.444444444444443, 14.444444444444445, 40.55555555555556, 4.444444444444445]\n"
          ]
        }
      ]
    },
    {
      "cell_type": "code",
      "metadata": {
        "colab": {
          "base_uri": "https://localhost:8080/"
        },
        "id": "qfKnzmLUsnHN",
        "outputId": "81cbacbb-d225-49e1-d0fe-0f053470470e"
      },
      "source": [
        "resp = list(map(cuadrado, lista))\n",
        "\n",
        "print(\"La lista \",lista, \" al cuadrado es: \", resp)"
      ],
      "execution_count": 32,
      "outputs": [
        {
          "output_type": "stream",
          "name": "stdout",
          "text": [
            "La lista  [1, 2, 3, 4]  al cuadrado es:  [1, 4, 9, 16]\n"
          ]
        }
      ]
    }
  ]
}