{
  "nbformat": 4,
  "nbformat_minor": 0,
  "metadata": {
    "colab": {
      "name": "Celsius a Fahrenheit",
      "provenance": [],
      "authorship_tag": "ABX9TyPfxrhIdoLxDV+DY1F76IcF",
      "include_colab_link": true
    },
    "kernelspec": {
      "name": "python3",
      "display_name": "Python 3"
    },
    "language_info": {
      "name": "python"
    }
  },
  "cells": [
    {
      "cell_type": "markdown",
      "metadata": {
        "id": "view-in-github",
        "colab_type": "text"
      },
      "source": [
        "<a href=\"https://colab.research.google.com/github/USIS002320/Programacion-III/blob/Temperaturas/Celsius_a_Fahrenheit.ipynb\" target=\"_parent\"><img src=\"https://colab.research.google.com/assets/colab-badge.svg\" alt=\"Open In Colab\"/></a>"
      ]
    },
    {
      "cell_type": "code",
      "metadata": {
        "colab": {
          "base_uri": "https://localhost:8080/"
        },
        "id": "O7Gyx3_1PPxQ",
        "outputId": "cbd6ccbe-78db-468a-cf91-9957b6dabb26"
      },
      "source": [
        "celsius = int(input(\"Ingrese la temperatura en grados Celsius: \"))\n",
        "fahrenheit = 9.0/5.0 * celsius +32 \n",
        "print(\"{} grados celsius son {} grados fahrenheit\" .format(fahrenheit, celsius))\n"
      ],
      "execution_count": 8,
      "outputs": [
        {
          "output_type": "stream",
          "text": [
            "Ingrese la temperatura en grados Celsius: 1\n",
            "33.8 grados celsius son 1 grados fahrenheit\n"
          ],
          "name": "stdout"
        }
      ]
    }
  ]
}