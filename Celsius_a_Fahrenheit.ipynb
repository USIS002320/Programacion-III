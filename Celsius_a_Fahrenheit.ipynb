{
  "nbformat": 4,
  "nbformat_minor": 0,
  "metadata": {
    "colab": {
      "name": "Celsius a Fahrenheit",
      "provenance": [],
      "authorship_tag": "ABX9TyPFBDjMLun+c2nXOvf2vb9K",
      "include_colab_link": true
    },
    "kernelspec": {
      "name": "python3",
      "display_name": "Python 3"
    },
    "language_info": {
      "name": "python"
    }
  },
  "cells": [
    {
      "cell_type": "markdown",
      "metadata": {
        "id": "view-in-github",
        "colab_type": "text"
      },
      "source": [
        "<a href=\"https://colab.research.google.com/github/USIS002320/Programacion-III/blob/Temperaturas/Celsius_a_Fahrenheit.ipynb\" target=\"_parent\"><img src=\"https://colab.research.google.com/assets/colab-badge.svg\" alt=\"Open In Colab\"/></a>"
      ]
    },
    {
      "cell_type": "code",
      "metadata": {
        "colab": {
          "base_uri": "https://localhost:8080/"
        },
        "id": "O7Gyx3_1PPxQ",
        "outputId": "cbd6ccbe-78db-468a-cf91-9957b6dabb26"
      },
      "source": [
        "celsius = int(input(\"Ingrese la temperatura en grados Celsius: \"))\n",
        "fahrenheit = 9.0/5.0 * celsius +32 \n",
        "print(\"{} grados celsius son {} grados fahrenheit\" .format(fahrenheit, celsius))\n"
      ],
      "execution_count": 8,
      "outputs": [
        {
          "output_type": "stream",
          "text": [
            "Ingrese la temperatura en grados Celsius: 1\n",
            "33.8 grados celsius son 1 grados fahrenheit\n"
          ],
          "name": "stdout"
        }
      ]
    },
    {
      "cell_type": "code",
      "metadata": {
        "colab": {
          "base_uri": "https://localhost:8080/"
        },
        "id": "xoBRORBnbrvm",
        "outputId": "9fdbb834-6fef-4be5-943a-fe8cc19e655a"
      },
      "source": [
        "print(\"Ejercicio2: PROMEDIO DE 3 NOTAS.\")\n",
        "\n",
        "print(\"Ingrese las 3 notas del alumno N1 , N2, N3\")\n",
        "N1 = int( input(\"N1: \"))\n",
        "N2 = int( input(\"N2: \"))\n",
        "N3 = int( input(\"N3: \"))\n",
        "\n",
        "P = int( (N1+N2+N3)/3 )\n",
        "\n",
        "print(\"\\nSalida: \")\n",
        "print(P)"
      ],
      "execution_count": 9,
      "outputs": [
        {
          "output_type": "stream",
          "text": [
            "Ejercicio2: PROMEDIO DE 3 NOTAS.\n",
            "Ingrese las 3 notas del alumno N1 , N2, N3\n",
            "N1: 10\n",
            "N2: 8\n",
            "N3: 5\n",
            "\n",
            "Salida: \n",
            "7\n"
          ],
          "name": "stdout"
        }
      ]
    },
    {
      "cell_type": "code",
      "metadata": {
        "colab": {
          "base_uri": "https://localhost:8080/"
        },
        "id": "Ef0bcRdCcc9m",
        "outputId": "faf0a1dc-b167-4a7a-e146-f8f5e60017f3"
      },
      "source": [
        "from datetime import datetime\n",
        "from dateutil.relativedelta import relativedelta\n",
        "\n",
        "edad = relativedelta(datetime.now(), datetime(2001, 10, 8))\n",
        "print(f\"{edad.years} años, {edad.months} meses y {edad.days} días\")"
      ],
      "execution_count": 10,
      "outputs": [
        {
          "output_type": "stream",
          "text": [
            "19 años, 9 meses y 30 días\n"
          ],
          "name": "stdout"
        }
      ]
    }
  ]
}